{
 "cells": [
  {
   "cell_type": "code",
   "execution_count": 103,
   "id": "fitted-destination",
   "metadata": {},
   "outputs": [
    {
     "data": {
      "text/plain": [
       "<matplotlib.image.AxesImage at 0x1d7ce62e280>"
      ]
     },
     "execution_count": 103,
     "metadata": {},
     "output_type": "execute_result"
    },
    {
     "data": {
      "image/png": "[encoded data removed]",
      "text/plain": [
       "<Figure size 432x288 with 1 Axes>"
      ]
     },
     "metadata": {
      "needs_background": "light"
     },
     "output_type": "display_data"
    }
   ],
   "source": [
    "#imports\n",
    "import numpy as nm\n",
    "import matplotlib.pyplot as plt\n",
    "import os\n",
    "import cv2\n",
    "from tqdm import tqdm\n",
    "\n",
    "folder = r\"C:\\Users\\phjlj\\Documents\\Datasets\\Positions\"\n",
    "X_data, Y_data = [], []\n",
    "\n",
    "def load(path, classification=None):\n",
    "    for subdir, dirs, files in os.walk(path):\n",
    "        for file in files: \n",
    "            X_data.append(cv2.imread(subdir + \"\\\\\" + file))\n",
    "            Y_data.append([classification])\n",
    "\n",
    "\n",
    "load(folder + \"\\\\\" + \"Jumping\", classification=0)\n",
    "load(folder + \"\\\\\" + \"Bell\", classification=1)\n",
    "load(folder + \"\\\\\" + \"Stretch\", classification=2)"
   ]
  },
  {
   "cell_type": "code",
   "execution_count": 126,
   "id": "hidden-pittsburgh",
   "metadata": {},
   "outputs": [],
   "source": [
    "def resize(array, IMG_SIZE=30):\n",
    "    return_val = []\n",
    "    for j in array:\n",
    "        return_val.append(cv2.resize(j, (IMG_SIZE, IMG_SIZE)))\n",
    "    return return_val\n",
    "X_data = resize(X_data)\n",
    "X_data = nm.array(X_data)\n",
    "Y_data = nm.array(Y_data)"
   ]
  },
  {
   "cell_type": "code",
   "execution_count": 130,
   "id": "every-cable",
   "metadata": {},
   "outputs": [
    {
     "name": "stdout",
     "output_type": "stream",
     "text": [
      "Epoch 1/45\n",
      "1/1 [==============================] - 0s 997us/step - loss: 61.3287 - accuracy: 0.1905\n",
      "Epoch 2/45\n",
      "1/1 [==============================] - 0s 2ms/step - loss: 286.8438 - accuracy: 0.3333\n",
      "Epoch 3/45\n",
      "1/1 [==============================] - 0s 2ms/step - loss: 376.2536 - accuracy: 0.3333\n",
      "Epoch 4/45\n",
      "1/1 [==============================] - 0s 990us/step - loss: 62.1493 - accuracy: 0.3333\n",
      "Epoch 5/45\n",
      "1/1 [==============================] - 0s 995us/step - loss: 92.9798 - accuracy: 0.3333\n",
      "Epoch 6/45\n",
      "1/1 [==============================] - 0s 1ms/step - loss: 100.8556 - accuracy: 0.3333\n",
      "Epoch 7/45\n",
      "1/1 [==============================] - 0s 2ms/step - loss: 60.5665 - accuracy: 0.3333\n",
      "Epoch 8/45\n",
      "1/1 [==============================] - 0s 2ms/step - loss: 53.7190 - accuracy: 0.3333\n",
      "Epoch 9/45\n",
      "1/1 [==============================] - 0s 997us/step - loss: 15.4066 - accuracy: 0.4286\n",
      "Epoch 10/45\n",
      "1/1 [==============================] - 0s 997us/step - loss: 35.0668 - accuracy: 0.3333\n",
      "Epoch 11/45\n",
      "1/1 [==============================] - 0s 995us/step - loss: 28.2562 - accuracy: 0.4286\n",
      "Epoch 12/45\n",
      "1/1 [==============================] - 0s 997us/step - loss: 10.8307 - accuracy: 0.4762\n",
      "Epoch 13/45\n",
      "1/1 [==============================] - 0s 2ms/step - loss: 18.5875 - accuracy: 0.4762\n",
      "Epoch 14/45\n",
      "1/1 [==============================] - 0s 2ms/step - loss: 5.3878 - accuracy: 0.5238\n",
      "Epoch 15/45\n",
      "1/1 [==============================] - 0s 990us/step - loss: 15.6683 - accuracy: 0.5238\n",
      "Epoch 16/45\n",
      "1/1 [==============================] - 0s 997us/step - loss: 7.3878 - accuracy: 0.6190\n",
      "Epoch 17/45\n",
      "1/1 [==============================] - 0s 996us/step - loss: 11.7380 - accuracy: 0.5714\n",
      "Epoch 18/45\n",
      "1/1 [==============================] - 0s 996us/step - loss: 6.0503 - accuracy: 0.5714\n",
      "Epoch 19/45\n",
      "1/1 [==============================] - 0s 2ms/step - loss: 7.2115 - accuracy: 0.5714\n",
      "Epoch 20/45\n",
      "1/1 [==============================] - 0s 996us/step - loss: 0.0897 - accuracy: 0.9524\n",
      "Epoch 21/45\n",
      "1/1 [==============================] - 0s 992us/step - loss: 0.2107 - accuracy: 0.9048\n",
      "Epoch 22/45\n",
      "1/1 [==============================] - 0s 978us/step - loss: 1.0825 - accuracy: 0.8095\n",
      "Epoch 23/45\n",
      "1/1 [==============================] - 0s 998us/step - loss: 1.7328 - accuracy: 0.7143\n",
      "Epoch 24/45\n",
      "1/1 [==============================] - 0s 995us/step - loss: 5.9529 - accuracy: 0.7143\n",
      "Epoch 25/45\n",
      "1/1 [==============================] - 0s 2ms/step - loss: 3.9680 - accuracy: 0.6667\n",
      "Epoch 26/45\n",
      "1/1 [==============================] - 0s 994us/step - loss: 5.7870 - accuracy: 0.7619\n",
      "Epoch 27/45\n",
      "1/1 [==============================] - 0s 2ms/step - loss: 0.0240 - accuracy: 1.0000\n",
      "Epoch 28/45\n",
      "1/1 [==============================] - 0s 3ms/step - loss: 0.0236 - accuracy: 1.0000\n",
      "Epoch 29/45\n",
      "1/1 [==============================] - 0s 995us/step - loss: 0.0039 - accuracy: 1.0000\n",
      "Epoch 30/45\n",
      "1/1 [==============================] - 0s 4ms/step - loss: 0.0033 - accuracy: 1.0000\n",
      "Epoch 31/45\n",
      "1/1 [==============================] - 0s 3ms/step - loss: 0.0031 - accuracy: 1.0000\n",
      "Epoch 32/45\n",
      "1/1 [==============================] - 0s 2ms/step - loss: 0.0030 - accuracy: 1.0000\n",
      "Epoch 33/45\n",
      "1/1 [==============================] - ETA: 0s - loss: 0.0029 - accuracy: 1.00 - 0s 4ms/step - loss: 0.0029 - accuracy: 1.0000\n",
      "Epoch 34/45\n",
      "1/1 [==============================] - 0s 997us/step - loss: 0.0028 - accuracy: 1.0000\n",
      "Epoch 35/45\n",
      "1/1 [==============================] - 0s 2ms/step - loss: 0.0027 - accuracy: 1.0000\n",
      "Epoch 36/45\n",
      "1/1 [==============================] - 0s 997us/step - loss: 0.0026 - accuracy: 1.0000\n",
      "Epoch 37/45\n",
      "1/1 [==============================] - 0s 2ms/step - loss: 0.0025 - accuracy: 1.0000\n",
      "Epoch 38/45\n",
      "1/1 [==============================] - 0s 2ms/step - loss: 0.0025 - accuracy: 1.0000\n",
      "Epoch 39/45\n",
      "1/1 [==============================] - 0s 2ms/step - loss: 0.0024 - accuracy: 1.0000\n",
      "Epoch 40/45\n",
      "1/1 [==============================] - 0s 2ms/step - loss: 0.0023 - accuracy: 1.0000\n",
      "Epoch 41/45\n",
      "1/1 [==============================] - 0s 995us/step - loss: 0.0023 - accuracy: 1.0000\n",
      "Epoch 42/45\n",
      "1/1 [==============================] - 0s 2ms/step - loss: 0.0022 - accuracy: 1.0000\n",
      "Epoch 43/45\n",
      "1/1 [==============================] - 0s 2ms/step - loss: 0.0022 - accuracy: 1.0000\n",
      "Epoch 44/45\n",
      "1/1 [==============================] - 0s 2ms/step - loss: 0.0021 - accuracy: 1.0000\n",
      "Epoch 45/45\n",
      "1/1 [==============================] - 0s 3ms/step - loss: 0.0021 - accuracy: 1.0000\n",
      "Model: \"sequential_43\"\n",
      "_________________________________________________________________\n",
      "Layer (type)                 Output Shape              Param #   \n",
      "=================================================================\n",
      "flatten_43 (Flatten)         (None, 2700)              0         \n",
      "_________________________________________________________________\n",
      "dense_148 (Dense)            (None, 130)               351130    \n",
      "_________________________________________________________________\n",
      "dense_149 (Dense)            (None, 130)               17030     \n",
      "_________________________________________________________________\n",
      "dense_150 (Dense)            (None, 130)               17030     \n",
      "_________________________________________________________________\n",
      "dense_151 (Dense)            (None, 3)                 393       \n",
      "=================================================================\n",
      "Total params: 385,583\n",
      "Trainable params: 385,583\n",
      "Non-trainable params: 0\n",
      "_________________________________________________________________\n",
      "None\n"
     ]
    }
   ],
   "source": [
    "import tensorflow as tf\n",
    "import sys\n",
    "\n",
    "tf.keras.utils.normalize(X_data)\n",
    "Net = tf.keras.models.Sequential()\n",
    "Net.add(tf.keras.layers.Flatten())\n",
    "Net.add(tf.keras.layers.Dense(130, activation=\"relu\"))\n",
    "Net.add(tf.keras.layers.Dense(130, activation=\"relu\"))\n",
    "Net.add(tf.keras.layers.Dense(130, activation=\"relu\"))\n",
    "Net.add(tf.keras.layers.Dense(3, activation=\"softmax\"))\n",
    "Net.compile(optimizer=\"adagrad\", loss=\"sparse_categorical_crossentropy\", metrics=[\"accuracy\",])\n",
    "Net.fit(X_data, Y_data, epochs=45)\n",
    "\n",
    "print(Net.summary())"
   ]
  },
  {
   "cell_type": "code",
   "execution_count": null,
   "id": "secret-apparel",
   "metadata": {},
   "outputs": [],
   "source": []
  }
 ],
 "metadata": {
  "kernelspec": {
   "display_name": "Python 3",
   "language": "python",
   "name": "python3"
  },
  "language_info": {
   "codemirror_mode": {
    "name": "ipython",
    "version": 3
   },
   "file_extension": ".py",
   "mimetype": "text/x-python",
   "name": "python",
   "nbconvert_exporter": "python",
   "pygments_lexer": "ipython3",
   "version": "3.8.5"
  }
 },
 "nbformat": 4,
 "nbformat_minor": 5
}
